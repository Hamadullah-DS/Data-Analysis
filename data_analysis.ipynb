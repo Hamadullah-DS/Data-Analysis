# Data Analysis Example by Hamadullah

import pandas as pd
import matplotlib.pyplot as plt
import seaborn as sns

# Load dataset
data = pd.read_csv("smart_city_traffic_data.csv")  # Replace with your dataset name

# Show basic info
print("Dataset Info:")
print(data.info())

# Summary statistics
print("\nSummary Statistics:")
print(data.describe())

# Check for missing values
print("\nMissing Values:")
print(data.isnull().sum())

# Visualize a column (example)
sns.histplot(data['Traffic_Volume'], bins=30, kde=True)
plt.title('Traffic Volume Distribution')
plt.xlabel('Volume')
plt.ylabel('Frequency')
plt.show()
